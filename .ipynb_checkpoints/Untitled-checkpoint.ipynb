{
 "cells": [
  {
   "cell_type": "code",
   "execution_count": 1,
   "id": "fcf46eea",
   "metadata": {},
   "outputs": [],
   "source": [
    "import os"
   ]
  },
  {
   "cell_type": "code",
   "execution_count": 2,
   "id": "67836962",
   "metadata": {},
   "outputs": [],
   "source": [
    "def get_camera(camera_name):\n",
    "    cam_num = None\n",
    "    for file in os.listdir(\"/sys/class/video4linux\"):\n",
    "        real_file = os.path.realpath(\"/sys/class/video4linux/\" + file + \"/name\")\n",
    "        with open(real_file, \"rt\") as name_file:\n",
    "            name = name_file.read().rstrip()\n",
    "        if camera_name in name:\n",
    "            cam_num = int(re.search(\"\\d+$\", file).group(0))\n",
    "            found = \"FOUND!\"\n",
    "        else:\n",
    "            found = \"      \"\n",
    "        print(\"{} {} -> {}\".format(found, file, name))\n",
    "    return cam_num"
   ]
  },
  {
   "cell_type": "code",
   "execution_count": 3,
   "id": "335267f5",
   "metadata": {},
   "outputs": [
    {
     "ename": "FileNotFoundError",
     "evalue": "[WinError 3] The system cannot find the path specified: '/sys/class/video4linux'",
     "output_type": "error",
     "traceback": [
      "\u001b[1;31m---------------------------------------------------------------------------\u001b[0m",
      "\u001b[1;31mFileNotFoundError\u001b[0m                         Traceback (most recent call last)",
      "\u001b[1;32m<ipython-input-3-266d8492ca69>\u001b[0m in \u001b[0;36m<module>\u001b[1;34m\u001b[0m\n\u001b[1;32m----> 1\u001b[1;33m \u001b[0mget_camera\u001b[0m\u001b[1;33m(\u001b[0m\u001b[1;34m\"Hp\"\u001b[0m\u001b[1;33m)\u001b[0m\u001b[1;33m\u001b[0m\u001b[1;33m\u001b[0m\u001b[0m\n\u001b[0m",
      "\u001b[1;32m<ipython-input-2-3da31b81c220>\u001b[0m in \u001b[0;36mget_camera\u001b[1;34m(camera_name)\u001b[0m\n\u001b[0;32m      1\u001b[0m \u001b[1;32mdef\u001b[0m \u001b[0mget_camera\u001b[0m\u001b[1;33m(\u001b[0m\u001b[0mcamera_name\u001b[0m\u001b[1;33m)\u001b[0m\u001b[1;33m:\u001b[0m\u001b[1;33m\u001b[0m\u001b[1;33m\u001b[0m\u001b[0m\n\u001b[0;32m      2\u001b[0m     \u001b[0mcam_num\u001b[0m \u001b[1;33m=\u001b[0m \u001b[1;32mNone\u001b[0m\u001b[1;33m\u001b[0m\u001b[1;33m\u001b[0m\u001b[0m\n\u001b[1;32m----> 3\u001b[1;33m     \u001b[1;32mfor\u001b[0m \u001b[0mfile\u001b[0m \u001b[1;32min\u001b[0m \u001b[0mos\u001b[0m\u001b[1;33m.\u001b[0m\u001b[0mlistdir\u001b[0m\u001b[1;33m(\u001b[0m\u001b[1;34m\"/sys/class/video4linux\"\u001b[0m\u001b[1;33m)\u001b[0m\u001b[1;33m:\u001b[0m\u001b[1;33m\u001b[0m\u001b[1;33m\u001b[0m\u001b[0m\n\u001b[0m\u001b[0;32m      4\u001b[0m         \u001b[0mreal_file\u001b[0m \u001b[1;33m=\u001b[0m \u001b[0mos\u001b[0m\u001b[1;33m.\u001b[0m\u001b[0mpath\u001b[0m\u001b[1;33m.\u001b[0m\u001b[0mrealpath\u001b[0m\u001b[1;33m(\u001b[0m\u001b[1;34m\"/sys/class/video4linux/\"\u001b[0m \u001b[1;33m+\u001b[0m \u001b[0mfile\u001b[0m \u001b[1;33m+\u001b[0m \u001b[1;34m\"/name\"\u001b[0m\u001b[1;33m)\u001b[0m\u001b[1;33m\u001b[0m\u001b[1;33m\u001b[0m\u001b[0m\n\u001b[0;32m      5\u001b[0m         \u001b[1;32mwith\u001b[0m \u001b[0mopen\u001b[0m\u001b[1;33m(\u001b[0m\u001b[0mreal_file\u001b[0m\u001b[1;33m,\u001b[0m \u001b[1;34m\"rt\"\u001b[0m\u001b[1;33m)\u001b[0m \u001b[1;32mas\u001b[0m \u001b[0mname_file\u001b[0m\u001b[1;33m:\u001b[0m\u001b[1;33m\u001b[0m\u001b[1;33m\u001b[0m\u001b[0m\n",
      "\u001b[1;31mFileNotFoundError\u001b[0m: [WinError 3] The system cannot find the path specified: '/sys/class/video4linux'"
     ]
    }
   ],
   "source": [
    "get_camera(\"Hp\")"
   ]
  },
  {
   "cell_type": "code",
   "execution_count": 4,
   "id": "4b58f11b",
   "metadata": {},
   "outputs": [
    {
     "name": "stderr",
     "output_type": "stream",
     "text": [
      "c:\\users\\vishnu\\.conda\\envs\\testmask\\lib\\site-packages\\device_manager\\scanner\\nmap.py:20: UserWarning: python-nmap is not installed. Without this package you may not find all ethernet devices in your local network. When installing python-nmap, do not forget to install the nmap executable as well, if it is not installed, yet. And make sure it is also included in the PATH environmental variable.\n",
      "  warnings.warn(\"python-nmap is not installed. Without this package you may not find all \"\n"
     ]
    }
   ],
   "source": [
    "from device_manager import DeviceType"
   ]
  },
  {
   "cell_type": "code",
   "execution_count": 5,
   "id": "630b855f",
   "metadata": {},
   "outputs": [
    {
     "data": {
      "text/plain": [
       "[<DeviceType.USB: 'usb'>, <DeviceType.LAN: 'lan'>]"
      ]
     },
     "execution_count": 5,
     "metadata": {},
     "output_type": "execute_result"
    }
   ],
   "source": [
    "list(DeviceType)"
   ]
  },
  {
   "cell_type": "code",
   "execution_count": 6,
   "id": "d1138972",
   "metadata": {},
   "outputs": [
    {
     "ename": "NameError",
     "evalue": "name 'DeviceManager' is not defined",
     "output_type": "error",
     "traceback": [
      "\u001b[1;31m---------------------------------------------------------------------------\u001b[0m",
      "\u001b[1;31mNameError\u001b[0m                                 Traceback (most recent call last)",
      "\u001b[1;32m<ipython-input-6-2cb98948dffe>\u001b[0m in \u001b[0;36m<module>\u001b[1;34m\u001b[0m\n\u001b[1;32m----> 1\u001b[1;33m \u001b[0mdm\u001b[0m \u001b[1;33m=\u001b[0m \u001b[0mDeviceManager\u001b[0m\u001b[1;33m(\u001b[0m\u001b[1;33m)\u001b[0m\u001b[1;33m\u001b[0m\u001b[1;33m\u001b[0m\u001b[0m\n\u001b[0m",
      "\u001b[1;31mNameError\u001b[0m: name 'DeviceManager' is not defined"
     ]
    }
   ],
   "source": [
    "dm = DeviceManager()"
   ]
  },
  {
   "cell_type": "code",
   "execution_count": 17,
   "id": "f6f1097f",
   "metadata": {},
   "outputs": [],
   "source": [
    "from device_manager import USBDevice, LANDevice,  DeviceManager"
   ]
  },
  {
   "cell_type": "code",
   "execution_count": 18,
   "id": "6fc0728c",
   "metadata": {},
   "outputs": [],
   "source": [
    "dm =  DeviceManager()"
   ]
  },
  {
   "cell_type": "code",
   "execution_count": 19,
   "id": "c1062887",
   "metadata": {},
   "outputs": [],
   "source": [
    "usb_device = dm.scanner[\"usb\"].find_devices(serial=\"1234567890AB\")"
   ]
  },
  {
   "cell_type": "code",
   "execution_count": null,
   "id": "bb7fb873",
   "metadata": {},
   "outputs": [],
   "source": []
  }
 ],
 "metadata": {
  "kernelspec": {
   "display_name": "Python 3",
   "language": "python",
   "name": "python3"
  },
  "language_info": {
   "codemirror_mode": {
    "name": "ipython",
    "version": 3
   },
   "file_extension": ".py",
   "mimetype": "text/x-python",
   "name": "python",
   "nbconvert_exporter": "python",
   "pygments_lexer": "ipython3",
   "version": "3.6.10"
  }
 },
 "nbformat": 4,
 "nbformat_minor": 5
}

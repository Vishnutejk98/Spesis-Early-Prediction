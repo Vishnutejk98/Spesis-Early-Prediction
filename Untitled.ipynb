{
 "cells": [
  {
   "cell_type": "code",
   "execution_count": 1,
   "id": "3a943193",
   "metadata": {},
   "outputs": [],
   "source": [
    "import os"
   ]
  },
  {
   "cell_type": "code",
   "execution_count": 2,
   "id": "8d2fb4c4",
   "metadata": {},
   "outputs": [],
   "source": [
    "def get_camera(camera_name):\n",
    "    cam_num = None\n",
    "    for file in os.listdir(\"/sys/class/video4linux\"):\n",
    "        real_file = os.path.realpath(\"/sys/class/video4linux/\" + file + \"/name\")\n",
    "        with open(real_file, \"rt\") as name_file:\n",
    "            name = name_file.read().rstrip()\n",
    "        if camera_name in name:\n",
    "            cam_num = int(re.search(\"\\d+$\", file).group(0))\n",
    "            found = \"FOUND!\"\n",
    "        else:\n",
    "            found = \"      \"\n",
    "        print(\"{} {} -> {}\".format(found, file, name))\n",
    "    return cam_num"
   ]
  },
  {
   "cell_type": "code",
   "execution_count": 3,
   "id": "284716e5",
   "metadata": {},
   "outputs": [
    {
     "ename": "FileNotFoundError",
     "evalue": "[WinError 3] The system cannot find the path specified: '/sys/class/video4linux'",
     "output_type": "error",
     "traceback": [
      "\u001b[1;31m---------------------------------------------------------------------------\u001b[0m",
      "\u001b[1;31mFileNotFoundError\u001b[0m                         Traceback (most recent call last)",
      "\u001b[1;32m<ipython-input-3-266d8492ca69>\u001b[0m in \u001b[0;36m<module>\u001b[1;34m\u001b[0m\n\u001b[1;32m----> 1\u001b[1;33m \u001b[0mget_camera\u001b[0m\u001b[1;33m(\u001b[0m\u001b[1;34m\"Hp\"\u001b[0m\u001b[1;33m)\u001b[0m\u001b[1;33m\u001b[0m\u001b[1;33m\u001b[0m\u001b[0m\n\u001b[0m",
      "\u001b[1;32m<ipython-input-2-3da31b81c220>\u001b[0m in \u001b[0;36mget_camera\u001b[1;34m(camera_name)\u001b[0m\n\u001b[0;32m      1\u001b[0m \u001b[1;32mdef\u001b[0m \u001b[0mget_camera\u001b[0m\u001b[1;33m(\u001b[0m\u001b[0mcamera_name\u001b[0m\u001b[1;33m)\u001b[0m\u001b[1;33m:\u001b[0m\u001b[1;33m\u001b[0m\u001b[1;33m\u001b[0m\u001b[0m\n\u001b[0;32m      2\u001b[0m     \u001b[0mcam_num\u001b[0m \u001b[1;33m=\u001b[0m \u001b[1;32mNone\u001b[0m\u001b[1;33m\u001b[0m\u001b[1;33m\u001b[0m\u001b[0m\n\u001b[1;32m----> 3\u001b[1;33m     \u001b[1;32mfor\u001b[0m \u001b[0mfile\u001b[0m \u001b[1;32min\u001b[0m \u001b[0mos\u001b[0m\u001b[1;33m.\u001b[0m\u001b[0mlistdir\u001b[0m\u001b[1;33m(\u001b[0m\u001b[1;34m\"/sys/class/video4linux\"\u001b[0m\u001b[1;33m)\u001b[0m\u001b[1;33m:\u001b[0m\u001b[1;33m\u001b[0m\u001b[1;33m\u001b[0m\u001b[0m\n\u001b[0m\u001b[0;32m      4\u001b[0m         \u001b[0mreal_file\u001b[0m \u001b[1;33m=\u001b[0m \u001b[0mos\u001b[0m\u001b[1;33m.\u001b[0m\u001b[0mpath\u001b[0m\u001b[1;33m.\u001b[0m\u001b[0mrealpath\u001b[0m\u001b[1;33m(\u001b[0m\u001b[1;34m\"/sys/class/video4linux/\"\u001b[0m \u001b[1;33m+\u001b[0m \u001b[0mfile\u001b[0m \u001b[1;33m+\u001b[0m \u001b[1;34m\"/name\"\u001b[0m\u001b[1;33m)\u001b[0m\u001b[1;33m\u001b[0m\u001b[1;33m\u001b[0m\u001b[0m\n\u001b[0;32m      5\u001b[0m         \u001b[1;32mwith\u001b[0m \u001b[0mopen\u001b[0m\u001b[1;33m(\u001b[0m\u001b[0mreal_file\u001b[0m\u001b[1;33m,\u001b[0m \u001b[1;34m\"rt\"\u001b[0m\u001b[1;33m)\u001b[0m \u001b[1;32mas\u001b[0m \u001b[0mname_file\u001b[0m\u001b[1;33m:\u001b[0m\u001b[1;33m\u001b[0m\u001b[1;33m\u001b[0m\u001b[0m\n",
      "\u001b[1;31mFileNotFoundError\u001b[0m: [WinError 3] The system cannot find the path specified: '/sys/class/video4linux'"
     ]
    }
   ],
   "source": [
    "get_camera(\"Hp\")"
   ]
  },
  {
   "cell_type": "code",
   "execution_count": 4,
   "id": "25699283",
   "metadata": {},
   "outputs": [
    {
     "name": "stderr",
     "output_type": "stream",
     "text": [
      "c:\\users\\vishnu\\.conda\\envs\\testmask\\lib\\site-packages\\device_manager\\scanner\\nmap.py:20: UserWarning: python-nmap is not installed. Without this package you may not find all ethernet devices in your local network. When installing python-nmap, do not forget to install the nmap executable as well, if it is not installed, yet. And make sure it is also included in the PATH environmental variable.\n",
      "  warnings.warn(\"python-nmap is not installed. Without this package you may not find all \"\n"
     ]
    }
   ],
   "source": [
    "from device_manager import DeviceType"
   ]
  },
  {
   "cell_type": "code",
   "execution_count": 5,
   "id": "889792ab",
   "metadata": {},
   "outputs": [
    {
     "data": {
      "text/plain": [
       "[<DeviceType.USB: 'usb'>, <DeviceType.LAN: 'lan'>]"
      ]
     },
     "execution_count": 5,
     "metadata": {},
     "output_type": "execute_result"
    }
   ],
   "source": [
    "list(DeviceType)"
   ]
  },
  {
   "cell_type": "code",
   "execution_count": 6,
   "id": "acd7a7e2",
   "metadata": {},
   "outputs": [
    {
     "ename": "NameError",
     "evalue": "name 'DeviceManager' is not defined",
     "output_type": "error",
     "traceback": [
      "\u001b[1;31m---------------------------------------------------------------------------\u001b[0m",
      "\u001b[1;31mNameError\u001b[0m                                 Traceback (most recent call last)",
      "\u001b[1;32m<ipython-input-6-2cb98948dffe>\u001b[0m in \u001b[0;36m<module>\u001b[1;34m\u001b[0m\n\u001b[1;32m----> 1\u001b[1;33m \u001b[0mdm\u001b[0m \u001b[1;33m=\u001b[0m \u001b[0mDeviceManager\u001b[0m\u001b[1;33m(\u001b[0m\u001b[1;33m)\u001b[0m\u001b[1;33m\u001b[0m\u001b[1;33m\u001b[0m\u001b[0m\n\u001b[0m",
      "\u001b[1;31mNameError\u001b[0m: name 'DeviceManager' is not defined"
     ]
    }
   ],
   "source": [
    "dm = DeviceManager()"
   ]
  },
  {
   "cell_type": "code",
   "execution_count": 17,
   "id": "81eea08e",
   "metadata": {},
   "outputs": [],
   "source": [
    "from device_manager import USBDevice, LANDevice,  DeviceManager"
   ]
  },
  {
   "cell_type": "code",
   "execution_count": 18,
   "id": "3b0989b8",
   "metadata": {},
   "outputs": [],
   "source": [
    "dm =  DeviceManager()"
   ]
  },
  {
   "cell_type": "code",
   "execution_count": 24,
   "id": "fd6f889b",
   "metadata": {},
   "outputs": [],
   "source": [
    "usb_device = dm.scanner[\"usb\"].find_devices(name=\"remid\")"
   ]
  },
  {
   "cell_type": "code",
   "execution_count": 25,
   "id": "2c9b3730",
   "metadata": {},
   "outputs": [
    {
     "data": {
      "text/plain": [
       "()"
      ]
     },
     "execution_count": 25,
     "metadata": {},
     "output_type": "execute_result"
    }
   ],
   "source": [
    "usb_device"
   ]
  },
  {
   "cell_type": "code",
   "execution_count": 26,
   "id": "3ab07cce",
   "metadata": {},
   "outputs": [
    {
     "name": "stderr",
     "output_type": "stream",
     "text": [
      "c:\\users\\vishnu\\.conda\\envs\\testmask\\lib\\site-packages\\numpy\\_distributor_init.py:32: UserWarning: loaded more than 1 DLL from .libs:\n",
      "c:\\users\\vishnu\\.conda\\envs\\testmask\\lib\\site-packages\\numpy\\.libs\\libopenblas.QVLO2T66WEPI7JZ63PS3HMOHFEY472BC.gfortran-win_amd64.dll\n",
      "c:\\users\\vishnu\\.conda\\envs\\testmask\\lib\\site-packages\\numpy\\.libs\\libopenblas.TXA6YQSD3GCQQC22GEQ54J2UDCXDXHWN.gfortran-win_amd64.dll\n",
      "  stacklevel=1)\n"
     ]
    },
    {
     "name": "stdout",
     "output_type": "stream",
     "text": [
      "OpenCV version: 4.2.0\n"
     ]
    },
    {
     "ename": "AttributeError",
     "evalue": "module 'device' has no attribute 'getDeviceList'",
     "output_type": "error",
     "traceback": [
      "\u001b[1;31m---------------------------------------------------------------------------\u001b[0m",
      "\u001b[1;31mAttributeError\u001b[0m                            Traceback (most recent call last)",
      "\u001b[1;32m<ipython-input-26-6ece707ec75e>\u001b[0m in \u001b[0;36m<module>\u001b[1;34m\u001b[0m\n\u001b[0;32m     66\u001b[0m \u001b[1;33m\u001b[0m\u001b[0m\n\u001b[0;32m     67\u001b[0m \u001b[1;32mif\u001b[0m \u001b[0m__name__\u001b[0m \u001b[1;33m==\u001b[0m \u001b[1;34m\"__main__\"\u001b[0m\u001b[1;33m:\u001b[0m\u001b[1;33m\u001b[0m\u001b[1;33m\u001b[0m\u001b[0m\n\u001b[1;32m---> 68\u001b[1;33m     \u001b[0mmain\u001b[0m\u001b[1;33m(\u001b[0m\u001b[1;33m)\u001b[0m\u001b[1;33m\u001b[0m\u001b[1;33m\u001b[0m\u001b[0m\n\u001b[0m",
      "\u001b[1;32m<ipython-input-26-6ece707ec75e>\u001b[0m in \u001b[0;36mmain\u001b[1;34m()\u001b[0m\n\u001b[0;32m     28\u001b[0m \u001b[1;33m\u001b[0m\u001b[0m\n\u001b[0;32m     29\u001b[0m     \u001b[1;31m# Get camera list\u001b[0m\u001b[1;33m\u001b[0m\u001b[1;33m\u001b[0m\u001b[1;33m\u001b[0m\u001b[0m\n\u001b[1;32m---> 30\u001b[1;33m     \u001b[0mdevice_list\u001b[0m \u001b[1;33m=\u001b[0m \u001b[0mdevice\u001b[0m\u001b[1;33m.\u001b[0m\u001b[0mgetDeviceList\u001b[0m\u001b[1;33m(\u001b[0m\u001b[1;33m)\u001b[0m\u001b[1;33m\u001b[0m\u001b[1;33m\u001b[0m\u001b[0m\n\u001b[0m\u001b[0;32m     31\u001b[0m     \u001b[0mindex\u001b[0m \u001b[1;33m=\u001b[0m \u001b[1;36m0\u001b[0m\u001b[1;33m\u001b[0m\u001b[1;33m\u001b[0m\u001b[0m\n\u001b[0;32m     32\u001b[0m \u001b[1;33m\u001b[0m\u001b[0m\n",
      "\u001b[1;31mAttributeError\u001b[0m: module 'device' has no attribute 'getDeviceList'"
     ]
    }
   ],
   "source": [
    "import device\n",
    "import cv2\n",
    "\n",
    "def select_camera(last_index):\n",
    "    number = 0\n",
    "    hint = \"Select a camera (0 to \" + str(last_index) + \"): \"\n",
    "    try:\n",
    "        number = int(input(hint))\n",
    "        # select = int(select)\n",
    "    except Exception:\n",
    "        print(\"It's not a number!\")\n",
    "        return select_camera(last_index)\n",
    "\n",
    "    if number > last_index:\n",
    "        print(\"Invalid number! Retry!\")\n",
    "        return select_camera(last_index)\n",
    "\n",
    "    return number\n",
    "\n",
    "\n",
    "def open_camera(index):\n",
    "    cap = cv2.VideoCapture(index)\n",
    "    return cap\n",
    "\n",
    "def main():\n",
    "    # print OpenCV version\n",
    "    print(\"OpenCV version: \" + cv2.__version__)\n",
    "\n",
    "    # Get camera list\n",
    "    device_list = device.getDeviceList()\n",
    "    index = 0\n",
    "\n",
    "    for name in device_list:\n",
    "        print(str(index) + ': ' + name)\n",
    "        index += 1\n",
    "\n",
    "    last_index = index - 1\n",
    "\n",
    "    if last_index < 0:\n",
    "        print(\"No device is connected\")\n",
    "        return\n",
    "\n",
    "    # Select a camera\n",
    "    camera_number = select_camera(last_index)\n",
    "    \n",
    "    # Open camera\n",
    "    cap = open_camera(camera_number)\n",
    "\n",
    "    if cap.isOpened():\n",
    "        width = cap.get(3) # Frame Width\n",
    "        height = cap.get(4) # Frame Height\n",
    "        print('Default width: ' + str(width) + ', height: ' + str(height))\n",
    "\n",
    "        while True:\n",
    "            \n",
    "            ret, frame = cap.read();\n",
    "            cv2.imshow(\"frame\", frame)\n",
    "\n",
    "            # key: 'ESC'\n",
    "            key = cv2.waitKey(20)\n",
    "            if key == 27:\n",
    "                break\n",
    "\n",
    "        cap.release() \n",
    "        cv2.destroyAllWindows() \n",
    "\n",
    "if __name__ == \"__main__\":\n",
    "    main()"
   ]
  },
  {
   "cell_type": "code",
   "execution_count": null,
   "id": "443543ac",
   "metadata": {},
   "outputs": [],
   "source": []
  }
 ],
 "metadata": {
  "kernelspec": {
   "display_name": "Python 3",
   "language": "python",
   "name": "python3"
  },
  "language_info": {
   "codemirror_mode": {
    "name": "ipython",
    "version": 3
   },
   "file_extension": ".py",
   "mimetype": "text/x-python",
   "name": "python",
   "nbconvert_exporter": "python",
   "pygments_lexer": "ipython3",
   "version": "3.6.10"
  }
 },
 "nbformat": 4,
 "nbformat_minor": 5
}
